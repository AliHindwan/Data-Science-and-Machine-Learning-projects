{
  "nbformat": 4,
  "nbformat_minor": 0,
  "metadata": {
    "kernelspec": {
      "display_name": "Python 3",
      "language": "python",
      "name": "python3"
    },
    "language_info": {
      "codemirror_mode": {
        "name": "ipython",
        "version": 3
      },
      "file_extension": ".py",
      "mimetype": "text/x-python",
      "name": "python",
      "nbconvert_exporter": "python",
      "pygments_lexer": "ipython3",
      "version": "3.8.5"
    },
    "toc": {
      "base_numbering": 1,
      "nav_menu": {},
      "number_sections": true,
      "sideBar": true,
      "skip_h1_title": false,
      "title_cell": "Table of Contents",
      "title_sidebar": "Contents",
      "toc_cell": false,
      "toc_position": {},
      "toc_section_display": true,
      "toc_window_display": true
    },
    "colab": {
      "name": "Personality prediction project.ipynb",
      "provenance": [],
      "collapsed_sections": [
        "MwHI7HRGpBDj",
        "dwbV2t4dpBDs",
        "5IlmK-D4pBD3",
        "emrACAf6uNkQ"
      ],
      "toc_visible": true
    },
    "accelerator": "GPU"
  },
  "cells": [
    {
      "cell_type": "markdown",
      "metadata": {
        "id": "rq_FkapRpBDi"
      },
      "source": [
        "# Personality prediction"
      ]
    },
    {
      "cell_type": "markdown",
      "metadata": {
        "heading_collapsed": true,
        "id": "MwHI7HRGpBDj"
      },
      "source": [
        "## Import the data and the libraries"
      ]
    },
    {
      "cell_type": "code",
      "metadata": {
        "hidden": true,
        "id": "JfXK0smDpBDk",
        "outputId": "9a683fb8-b4e5-46ff-b233-996525bd24e4",
        "colab": {
          "base_uri": "https://localhost:8080/",
          "height": 124
        }
      },
      "source": [
        "!pip install scikit-learn==0.23.2"
      ],
      "execution_count": 1,
      "outputs": [
        {
          "output_type": "stream",
          "text": [
            "Requirement already satisfied: scikit-learn==0.23.2 in /usr/local/lib/python3.6/dist-packages (0.23.2)\n",
            "Requirement already satisfied: threadpoolctl>=2.0.0 in /usr/local/lib/python3.6/dist-packages (from scikit-learn==0.23.2) (2.1.0)\n",
            "Requirement already satisfied: numpy>=1.13.3 in /usr/local/lib/python3.6/dist-packages (from scikit-learn==0.23.2) (1.18.5)\n",
            "Requirement already satisfied: joblib>=0.11 in /usr/local/lib/python3.6/dist-packages (from scikit-learn==0.23.2) (0.16.0)\n",
            "Requirement already satisfied: scipy>=0.19.1 in /usr/local/lib/python3.6/dist-packages (from scikit-learn==0.23.2) (1.4.1)\n"
          ],
          "name": "stdout"
        }
      ]
    },
    {
      "cell_type": "code",
      "metadata": {
        "id": "nb9hKoP1pVNZ",
        "outputId": "47709305-90f9-4909-8ac8-79754270e8c5",
        "colab": {
          "base_uri": "https://localhost:8080/",
          "height": 124
        }
      },
      "source": [
        "! pip install -U nltk"
      ],
      "execution_count": 2,
      "outputs": [
        {
          "output_type": "stream",
          "text": [
            "Requirement already up-to-date: nltk in /usr/local/lib/python3.6/dist-packages (3.5)\n",
            "Requirement already satisfied, skipping upgrade: click in /usr/local/lib/python3.6/dist-packages (from nltk) (7.1.2)\n",
            "Requirement already satisfied, skipping upgrade: joblib in /usr/local/lib/python3.6/dist-packages (from nltk) (0.16.0)\n",
            "Requirement already satisfied, skipping upgrade: tqdm in /usr/local/lib/python3.6/dist-packages (from nltk) (4.41.1)\n",
            "Requirement already satisfied, skipping upgrade: regex in /usr/local/lib/python3.6/dist-packages (from nltk) (2019.12.20)\n"
          ],
          "name": "stdout"
        }
      ]
    },
    {
      "cell_type": "code",
      "metadata": {
        "id": "VvpR7HCypfcu",
        "outputId": "eb8f0cd1-f478-497e-e7ba-9d16f5087c2e",
        "colab": {
          "base_uri": "https://localhost:8080/",
          "height": 35
        }
      },
      "source": [
        "!pip install pyspellchecker "
      ],
      "execution_count": 3,
      "outputs": [
        {
          "output_type": "stream",
          "text": [
            "Requirement already satisfied: pyspellchecker in /usr/local/lib/python3.6/dist-packages (0.5.5)\n"
          ],
          "name": "stdout"
        }
      ]
    },
    {
      "cell_type": "code",
      "metadata": {
        "id": "pfeEBn_mpgUU",
        "outputId": "294c16be-58d9-4911-e956-b9295894f452",
        "colab": {
          "base_uri": "https://localhost:8080/",
          "height": 211
        }
      },
      "source": [
        "!pip install --upgrade gensim"
      ],
      "execution_count": 4,
      "outputs": [
        {
          "output_type": "stream",
          "text": [
            "Requirement already up-to-date: gensim in /usr/local/lib/python3.6/dist-packages (3.8.3)\n",
            "Requirement already satisfied, skipping upgrade: six>=1.5.0 in /usr/local/lib/python3.6/dist-packages (from gensim) (1.15.0)\n",
            "Requirement already satisfied, skipping upgrade: smart-open>=1.8.1 in /usr/local/lib/python3.6/dist-packages (from gensim) (2.2.0)\n",
            "Requirement already satisfied, skipping upgrade: scipy>=0.18.1 in /usr/local/lib/python3.6/dist-packages (from gensim) (1.4.1)\n",
            "Requirement already satisfied, skipping upgrade: numpy>=1.11.3 in /usr/local/lib/python3.6/dist-packages (from gensim) (1.18.5)\n",
            "Requirement already satisfied, skipping upgrade: requests in /usr/local/lib/python3.6/dist-packages (from smart-open>=1.8.1->gensim) (2.23.0)\n",
            "Requirement already satisfied, skipping upgrade: urllib3!=1.25.0,!=1.25.1,<1.26,>=1.21.1 in /usr/local/lib/python3.6/dist-packages (from requests->smart-open>=1.8.1->gensim) (1.24.3)\n",
            "Requirement already satisfied, skipping upgrade: certifi>=2017.4.17 in /usr/local/lib/python3.6/dist-packages (from requests->smart-open>=1.8.1->gensim) (2020.6.20)\n",
            "Requirement already satisfied, skipping upgrade: idna<3,>=2.5 in /usr/local/lib/python3.6/dist-packages (from requests->smart-open>=1.8.1->gensim) (2.10)\n",
            "Requirement already satisfied, skipping upgrade: chardet<4,>=3.0.2 in /usr/local/lib/python3.6/dist-packages (from requests->smart-open>=1.8.1->gensim) (3.0.4)\n"
          ],
          "name": "stdout"
        }
      ]
    },
    {
      "cell_type": "code",
      "metadata": {
        "id": "mc9rwCsqp3rR",
        "outputId": "b0aad964-1ae9-4dad-9177-4e6818ca89ff",
        "colab": {
          "base_uri": "https://localhost:8080/",
          "height": 87
        }
      },
      "source": [
        "#Upload the important libraries\n",
        "import numpy as np \n",
        "import pandas as pd\n",
        "import matplotlib.pyplot as plt\n",
        "import seaborn as sns\n",
        "from sklearn.model_selection import train_test_split\n",
        "from sklearn.metrics import accuracy_score , f1_score\n",
        "from sklearn.naive_bayes import MultinomialNB\n",
        "from sklearn.svm import SVC\n",
        "from sklearn.feature_extraction.text import TfidfVectorizer ,CountVectorizer\n",
        "from sklearn.metrics import matthews_corrcoef\n",
        "import tensorflow as tf\n",
        "from sklearn.model_selection import GridSearchCV \n",
        "import sklearn\n",
        "from sklearn.ensemble import RandomForestClassifier\n",
        "import xgboost as xgb\n",
        "from gensim import utils\n",
        "import gensim.parsing.preprocessing as gsp\n",
        "from spellchecker import SpellChecker\n",
        "from tqdm import tqdm\n",
        "import gensim\n",
        "from gensim.utils import simple_preprocess\n",
        "from gensim.parsing.preprocessing import STOPWORDS\n",
        "from sklearn.preprocessing import MultiLabelBinarizer\n",
        "import nltk\n",
        "nltk.download('wordnet')\n",
        "import nltk\n",
        "nltk.download('punkt')\n",
        "from sklearn.preprocessing import LabelEncoder\n",
        "import torch\n",
        "import io\n",
        "import re"
      ],
      "execution_count": 22,
      "outputs": [
        {
          "output_type": "stream",
          "text": [
            "[nltk_data] Downloading package wordnet to /root/nltk_data...\n",
            "[nltk_data]   Package wordnet is already up-to-date!\n",
            "[nltk_data] Downloading package punkt to /root/nltk_data...\n",
            "[nltk_data]   Package punkt is already up-to-date!\n"
          ],
          "name": "stderr"
        }
      ]
    },
    {
      "cell_type": "code",
      "metadata": {
        "hidden": true,
        "id": "q1qaepX5W9Ij",
        "outputId": "dfd56c5d-d4cb-42fe-e039-be1e90459784",
        "colab": {
          "base_uri": "https://localhost:8080/",
          "height": 35
        }
      },
      "source": [
        "# This cell for GPU work\n",
        "\n",
        "device_name = tf.test.gpu_device_name()\n",
        "if device_name != '/device:GPU:0':\n",
        "  raise SystemError('GPU device not found')\n",
        "print('Found GPU at: {}'.format(device_name))"
      ],
      "execution_count": 9,
      "outputs": [
        {
          "output_type": "stream",
          "text": [
            "Found GPU at: /device:GPU:0\n"
          ],
          "name": "stdout"
        }
      ]
    },
    {
      "cell_type": "code",
      "metadata": {
        "hidden": true,
        "id": "TuTaQChCW9Im",
        "outputId": "cac94094-fcab-48ad-ae2f-eddf611a1c6e",
        "colab": {
          "base_uri": "https://localhost:8080/",
          "height": 52
        }
      },
      "source": [
        "# If there's a GPU available...\n",
        "if torch.cuda.is_available():    \n",
        "\n",
        "    # Tell PyTorch to use the GPU.    \n",
        "    device = torch.device(\"cuda\")\n",
        "\n",
        "    print('There are %d GPU(s) available.' % torch.cuda.device_count())\n",
        "\n",
        "    print('We will use the GPU:', torch.cuda.get_device_name(0))\n",
        "\n",
        "# If not...\n",
        "else:\n",
        "    print('No GPU available, using the CPU instead.')\n",
        "    device = torch.device(\"cpu\")"
      ],
      "execution_count": 10,
      "outputs": [
        {
          "output_type": "stream",
          "text": [
            "There are 1 GPU(s) available.\n",
            "We will use the GPU: Tesla P100-PCIE-16GB\n"
          ],
          "name": "stdout"
        }
      ]
    },
    {
      "cell_type": "code",
      "metadata": {
        "hidden": true,
        "id": "Z2MXmyV_pBDo",
        "outputId": "5c801758-7d62-46cf-aea6-3c5d85d67029",
        "colab": {
          "resources": {
            "http://localhost:8080/nbextensions/google.colab/files.js": {
              "data": "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",
              "ok": true,
              "headers": [
                [
                  "content-type",
                  "application/javascript"
                ]
              ],
              "status": 200,
              "status_text": ""
            }
          },
          "base_uri": "https://localhost:8080/",
          "height": 73
        }
      },
      "source": [
        "from google.colab import files\n",
        "uploaded= files.upload()"
      ],
      "execution_count": 11,
      "outputs": [
        {
          "output_type": "display_data",
          "data": {
            "text/html": [
              "\n",
              "     <input type=\"file\" id=\"files-ac62b7fa-ce01-4915-9d55-bc28379a29bb\" name=\"files[]\" multiple disabled\n",
              "        style=\"border:none\" />\n",
              "     <output id=\"result-ac62b7fa-ce01-4915-9d55-bc28379a29bb\">\n",
              "      Upload widget is only available when the cell has been executed in the\n",
              "      current browser session. Please rerun this cell to enable.\n",
              "      </output>\n",
              "      <script src=\"/nbextensions/google.colab/files.js\"></script> "
            ],
            "text/plain": [
              "<IPython.core.display.HTML object>"
            ]
          },
          "metadata": {
            "tags": []
          }
        },
        {
          "output_type": "stream",
          "text": [
            "Saving mbti_1.csv to mbti_1 (1).csv\n"
          ],
          "name": "stdout"
        }
      ]
    },
    {
      "cell_type": "code",
      "metadata": {
        "hidden": true,
        "id": "G2X14dpQpBDq"
      },
      "source": [
        "#data= pd.read_csv('mbti_1.csv', header=0)\n",
        "#Reading the data\n",
        "data= pd.read_csv(io.StringIO(uploaded['mbti_1.csv'].decode('utf-8')))"
      ],
      "execution_count": 14,
      "outputs": []
    },
    {
      "cell_type": "markdown",
      "metadata": {
        "heading_collapsed": true,
        "id": "dwbV2t4dpBDs"
      },
      "source": [
        "## Exploaratry data analysis "
      ]
    },
    {
      "cell_type": "code",
      "metadata": {
        "hidden": true,
        "id": "-DgvBr3jpBDt",
        "outputId": "ac048369-8edb-4416-99a8-76e97c076788",
        "colab": {
          "base_uri": "https://localhost:8080/",
          "height": 0
        }
      },
      "source": [
        "print(data.head())\n",
        "print('The columns are:',data.columns)\n",
        "print('The Classes of  Types column are :', len(data['type'].value_counts()))\n",
        "data['type']= data['type'].astype('category')"
      ],
      "execution_count": 15,
      "outputs": [
        {
          "output_type": "stream",
          "text": [
            "   type                                              posts\n",
            "0  INFJ  'http://www.youtube.com/watch?v=qsXHcwe3krw|||...\n",
            "1  ENTP  'I'm finding the lack of me in these posts ver...\n",
            "2  INTP  'Good one  _____   https://www.youtube.com/wat...\n",
            "3  INTJ  'Dear INTP,   I enjoyed our conversation the o...\n",
            "4  ENTJ  'You're fired.|||That's another silly misconce...\n",
            "The columns are: Index(['type', 'posts'], dtype='object')\n",
            "The Classes of  Types column are : 16\n"
          ],
          "name": "stdout"
        }
      ]
    },
    {
      "cell_type": "code",
      "metadata": {
        "hidden": true,
        "id": "9TR8_d_IpBDw",
        "outputId": "59f2feeb-acad-4f26-cf44-9183ef4969ae",
        "colab": {
          "base_uri": "https://localhost:8080/",
          "height": 0
        }
      },
      "source": [
        "print(data.info())"
      ],
      "execution_count": 16,
      "outputs": [
        {
          "output_type": "stream",
          "text": [
            "<class 'pandas.core.frame.DataFrame'>\n",
            "RangeIndex: 8675 entries, 0 to 8674\n",
            "Data columns (total 2 columns):\n",
            " #   Column  Non-Null Count  Dtype   \n",
            "---  ------  --------------  -----   \n",
            " 0   type    8675 non-null   category\n",
            " 1   posts   8675 non-null   object  \n",
            "dtypes: category(1), object(1)\n",
            "memory usage: 77.1+ KB\n",
            "None\n"
          ],
          "name": "stdout"
        }
      ]
    },
    {
      "cell_type": "code",
      "metadata": {
        "hidden": true,
        "id": "EQ7SKJ2SpBDy",
        "outputId": "3f735107-1247-4d52-a954-7f52f3a07005",
        "colab": {
          "base_uri": "https://localhost:8080/",
          "height": 0
        }
      },
      "source": [
        "print(data['type'].value_counts())\n",
        "print(data['type'].value_counts().sum())\n",
        "print(len(data['type'].value_counts()))"
      ],
      "execution_count": 17,
      "outputs": [
        {
          "output_type": "stream",
          "text": [
            "INFP    1832\n",
            "INFJ    1470\n",
            "INTP    1304\n",
            "INTJ    1091\n",
            "ENTP     685\n",
            "ENFP     675\n",
            "ISTP     337\n",
            "ISFP     271\n",
            "ENTJ     231\n",
            "ISTJ     205\n",
            "ENFJ     190\n",
            "ISFJ     166\n",
            "ESTP      89\n",
            "ESFP      48\n",
            "ESFJ      42\n",
            "ESTJ      39\n",
            "Name: type, dtype: int64\n",
            "8675\n",
            "16\n"
          ],
          "name": "stdout"
        }
      ]
    },
    {
      "cell_type": "code",
      "metadata": {
        "id": "m9ZcNA17sv2Z",
        "outputId": "309a95f1-d155-46dc-8e34-5e205de5f406",
        "colab": {
          "base_uri": "https://localhost:8080/",
          "height": 0
        }
      },
      "source": [
        "data['type'].value_counts().sort_values(ascending=False).plot(kind='bar')"
      ],
      "execution_count": 18,
      "outputs": [
        {
          "output_type": "execute_result",
          "data": {
            "text/plain": [
              "<matplotlib.axes._subplots.AxesSubplot at 0x7f41716c98d0>"
            ]
          },
          "metadata": {
            "tags": []
          },
          "execution_count": 18
        },
        {
          "output_type": "display_data",
          "data": {
            "image/png": "[encoded data removed]",
            "text/plain": [
              "<Figure size 432x288 with 1 Axes>"
            ]
          },
          "metadata": {
            "tags": [],
            "needs_background": "light"
          }
        }
      ]
    },
    {
      "cell_type": "code",
      "metadata": {
        "hidden": true,
        "id": "4nTykX9bpBD0",
        "outputId": "978b37b4-a040-4bf4-d4da-ce018d80672c",
        "colab": {
          "base_uri": "https://localhost:8080/",
          "height": 0
        }
      },
      "source": [
        "g=sns.countplot(data=data,\n",
        "         x='type', order=data['type'].value_counts().index)\n",
        "\n",
        "g.set_title(\"The frequencey of the classes\") \n",
        "\n",
        "g.set(xlabel=\"Classes\", ylabel=\"Frequency\") \n",
        "# Rotate x-tick labels\n",
        "plt.xticks(rotation=90)"
      ],
      "execution_count": 19,
      "outputs": [
        {
          "output_type": "execute_result",
          "data": {
            "text/plain": [
              "(array([ 0,  1,  2,  3,  4,  5,  6,  7,  8,  9, 10, 11, 12, 13, 14, 15]),\n",
              " <a list of 16 Text major ticklabel objects>)"
            ]
          },
          "metadata": {
            "tags": []
          },
          "execution_count": 19
        },
        {
          "output_type": "display_data",
          "data": {
            "image/png": "[encoded data removed]",
            "text/plain": [
              "<Figure size 432x288 with 1 Axes>"
            ]
          },
          "metadata": {
            "tags": [],
            "needs_background": "light"
          }
        }
      ]
    },
    {
      "cell_type": "markdown",
      "metadata": {
        "id": "5IlmK-D4pBD3"
      },
      "source": [
        "## Data Cleaning"
      ]
    },
    {
      "cell_type": "code",
      "metadata": {
        "id": "n-NSrSSRr3Tz"
      },
      "source": [
        "y= data['type']\n",
        "X= data['posts']"
      ],
      "execution_count": 20,
      "outputs": []
    },
    {
      "cell_type": "code",
      "metadata": {
        "hidden": true,
        "id": "yCGU202AW9JJ",
        "outputId": "0129e2c8-6a66-4513-b015-5f2d2780bff6",
        "colab": {
          "base_uri": "https://localhost:8080/",
          "height": 243
        }
      },
      "source": [
        "print('The Real Type of the observation are :' ,type(X))\n",
        "X=pd.DataFrame(X)\n",
        "print('The New Type of the observation are :', type(X))\n",
        "print('The Features are:',X.columns)\n",
        "\n",
        "#1 Replace all non letter characters with a whitespace\n",
        "X['text_clean'] = X['posts'].str.replace('[^a-zA-Z]', ' ')\n",
        "# 2 Change to lower case\n",
        "X['text_clean'] = X['text_clean'].str.lower()\n",
        "\n",
        "print(X.info())"
      ],
      "execution_count": 26,
      "outputs": [
        {
          "output_type": "stream",
          "text": [
            "The Real Type of the observation are : <class 'pandas.core.frame.DataFrame'>\n",
            "The New Type of the observation are : <class 'pandas.core.frame.DataFrame'>\n",
            "The Features are: Index(['posts'], dtype='object')\n",
            "<class 'pandas.core.frame.DataFrame'>\n",
            "RangeIndex: 8675 entries, 0 to 8674\n",
            "Data columns (total 2 columns):\n",
            " #   Column      Non-Null Count  Dtype \n",
            "---  ------      --------------  ----- \n",
            " 0   posts       8675 non-null   object\n",
            " 1   text_clean  8675 non-null   object\n",
            "dtypes: object(2)\n",
            "memory usage: 135.7+ KB\n",
            "None\n"
          ],
          "name": "stdout"
        }
      ]
    },
    {
      "cell_type": "code",
      "metadata": {
        "hidden": true,
        "id": "C39aSouOW9JL"
      },
      "source": [
        "#drop the messy column\n",
        "X= X.drop(['posts'], axis=1)"
      ],
      "execution_count": 27,
      "outputs": []
    },
    {
      "cell_type": "code",
      "metadata": {
        "hidden": true,
        "id": "86YCd99kW9JN",
        "outputId": "923e111a-9f00-4b26-da87-973778951fa7",
        "colab": {
          "base_uri": "https://localhost:8080/",
          "height": 208
        }
      },
      "source": [
        "#See the data after Cleaning it and dropping the messy column\n",
        "\n",
        "print(X.head())\n",
        "print('The number of Null observation are:' ,X.isnull().sum())\n",
        "print('The columns are:',X.columns)\n",
        "print('The type of the column is:',X.dtypes)\n",
        "X['text_clean']=X['text_clean'].astype(str) \n",
        "#X['New_Lables']= X['New_Lables'].astype('str')"
      ],
      "execution_count": 28,
      "outputs": [
        {
          "output_type": "stream",
          "text": [
            "                                          text_clean\n",
            "0   http   www youtube com watch v qsxhcwe krw   ...\n",
            "1   i m finding the lack of me in these posts ver...\n",
            "2   good one          https   www youtube com wat...\n",
            "3   dear intp    i enjoyed our conversation the o...\n",
            "4   you re fired    that s another silly misconce...\n",
            "The number of Null observation are: text_clean    0\n",
            "dtype: int64\n",
            "The columns are: Index(['text_clean'], dtype='object')\n",
            "The type of the column is: text_clean    object\n",
            "dtype: object\n"
          ],
          "name": "stdout"
        }
      ]
    },
    {
      "cell_type": "code",
      "metadata": {
        "id": "dQ2iD0EKDjqD"
      },
      "source": [
        "# Clean everything \n",
        "\n",
        "filters = [\n",
        "           gsp.strip_tags, \n",
        "           gsp.strip_punctuation,\n",
        "           gsp.strip_multiple_whitespaces,\n",
        "           gsp.strip_numeric,\n",
        "           gsp.remove_stopwords,\n",
        "           gsp.strip_short\n",
        "          ]\n",
        "\n",
        "\n",
        "def clean_text(s):\n",
        "    s = s.lower()\n",
        "    s = utils.to_unicode(s)\n",
        "    for f in filters:\n",
        "        s = f(s)\n",
        "    return s\n",
        "\n",
        "\n",
        "X['text_clean'] = X['text_clean'].apply(lambda x : clean_text(x))"
      ],
      "execution_count": 29,
      "outputs": []
    },
    {
      "cell_type": "code",
      "metadata": {
        "id": "IPEDFA6dwKFi",
        "outputId": "9aabb707-2910-40a9-faa7-0da31f265057",
        "colab": {
          "base_uri": "https://localhost:8080/",
          "height": 121
        }
      },
      "source": [
        "print(X['text_clean'].head(5))"
      ],
      "execution_count": 30,
      "outputs": [
        {
          "output_type": "stream",
          "text": [
            "0    http www youtube com watch qsxhcwe krw http me...\n",
            "1    finding lack posts alarming sex boring positio...\n",
            "2    good https www youtube com watch fhigbolffgw c...\n",
            "3    dear intp enjoyed conversation day esoteric ga...\n",
            "4    fired silly misconception approaching logicall...\n",
            "Name: text_clean, dtype: object\n"
          ],
          "name": "stdout"
        }
      ]
    },
    {
      "cell_type": "markdown",
      "metadata": {
        "id": "emrACAf6uNkQ"
      },
      "source": [
        "## Feature Enignnering"
      ]
    },
    {
      "cell_type": "code",
      "metadata": {
        "id": "TQ1V8YUpuAJZ",
        "outputId": "5fa40afa-0d21-4d2b-e18a-2023e567697c",
        "colab": {
          "base_uri": "https://localhost:8080/",
          "height": 523
        }
      },
      "source": [
        "# We applied CountVectorizer because we want to take care on n-grams, abd Bag of Words MINOCCc=0.05 and MAXOCCd=0.5\n",
        "# Instantiate CountVectorizer\n",
        "cv = CountVectorizer(analyzer=\"word\", \n",
        "                             max_features=1500, \n",
        "                             tokenizer=None,    \n",
        "                             preprocessor=None, \n",
        "                             stop_words=None,  \n",
        "#                             ngram_range=(1,1),\n",
        "                             max_df=0.5,\n",
        "                             min_df=0.1) # we can manuplite min_df\n",
        "# Fit the vectorizer\n",
        "cv_transformed= cv.fit_transform(X['text_clean'])\n",
        "# Create a DataFrame with these features\n",
        "cv_df = pd.DataFrame(cv_transformed.toarray(), \n",
        "                     columns=cv.get_feature_names()).add_prefix('Counts_')\n",
        "#Isolate the row to be examined\n",
        "sample_row_cv = cv_df.iloc[0]\n",
        "\n",
        "#Print the top 5 words of the sorted output\n",
        "print(sample_row_cv.sort_values(ascending=False).head())\n",
        "\n",
        "print('The Shape of the data After the CountVectorizer is:',cv_df)\n",
        "print('The New Features after BOW and N-Grams are:',cv_df.columns)"
      ],
      "execution_count": 31,
      "outputs": [
        {
          "output_type": "stream",
          "text": [
            "Counts_http       21\n",
            "Counts_youtube    16\n",
            "Counts_jpg         6\n",
            "Counts_https       3\n",
            "Counts_video       3\n",
            "Name: 0, dtype: int64\n",
            "The Shape of the data After the CountVectorizer is:       Counts_ability  Counts_able  ...  Counts_younger  Counts_youtube\n",
            "0                  0            0  ...               0              16\n",
            "1                  0            1  ...               0               1\n",
            "2                  2            1  ...               0               3\n",
            "3                  0            2  ...               0               2\n",
            "4                  0            0  ...               0               1\n",
            "...              ...          ...  ...             ...             ...\n",
            "8670               0            0  ...               1               5\n",
            "8671               0            0  ...               0               0\n",
            "8672               0            0  ...               0               2\n",
            "8673               0            2  ...               0               0\n",
            "8674               0            1  ...               0               3\n",
            "\n",
            "[8675 rows x 696 columns]\n",
            "The New Features after BOW and N-Grams are: Index(['Counts_ability', 'Counts_able', 'Counts_absolutely', 'Counts_accept',\n",
            "       'Counts_accurate', 'Counts_act', 'Counts_action', 'Counts_actual',\n",
            "       'Counts_add', 'Counts_admit',\n",
            "       ...\n",
            "       'Counts_writing', 'Counts_written', 'Counts_wrong', 'Counts_wrote',\n",
            "       'Counts_yeah', 'Counts_year', 'Counts_yesterday', 'Counts_young',\n",
            "       'Counts_younger', 'Counts_youtube'],\n",
            "      dtype='object', length=696)\n"
          ],
          "name": "stdout"
        }
      ]
    },
    {
      "cell_type": "code",
      "metadata": {
        "id": "KnxhvAEYtT0D",
        "outputId": "e9046218-71dc-46f1-9f7f-77aa2e8ed5cd",
        "colab": {
          "base_uri": "https://localhost:8080/",
          "height": 173
        }
      },
      "source": [
        "# One Hot Encode the Predicted Values\n",
        "pred=pd.get_dummies(y)\n",
        "print('The Shape of the Data Frame after one hot encoding is:',pred.shape)\n",
        "print(pred.tail())"
      ],
      "execution_count": 32,
      "outputs": [
        {
          "output_type": "stream",
          "text": [
            "The Shape of the Data Frame after one hot encoding is: (8675, 16)\n",
            "      ENFJ  ENFP  ENTJ  ENTP  ESFJ  ESFP  ...  INTJ  INTP  ISFJ  ISFP  ISTJ  ISTP\n",
            "8670     0     0     0     0     0     0  ...     0     0     0     1     0     0\n",
            "8671     0     1     0     0     0     0  ...     0     0     0     0     0     0\n",
            "8672     0     0     0     0     0     0  ...     0     1     0     0     0     0\n",
            "8673     0     0     0     0     0     0  ...     0     0     0     0     0     0\n",
            "8674     0     0     0     0     0     0  ...     0     0     0     0     0     0\n",
            "\n",
            "[5 rows x 16 columns]\n"
          ],
          "name": "stdout"
        }
      ]
    },
    {
      "cell_type": "code",
      "metadata": {
        "id": "jho9W-OmuI_O",
        "outputId": "e1cc5c59-bd33-4631-916f-782f816dabee",
        "colab": {
          "base_uri": "https://localhost:8080/",
          "height": 87
        }
      },
      "source": [
        "#Split the data into train and test with 25 percent of testing data \n",
        "\n",
        "x_train, x_test, y_train, y_test = train_test_split(cv_df,y,test_size=0.25, random_state=42, shuffle = True \n",
        "                                                    ,stratify=y)\n",
        "\n",
        "print('The Shape of the Training observations are:',x_train.shape)\n",
        "print('The Shape of the Training Labels are:',y_train.shape)\n",
        "print('The Shape of the Testing observations are:',x_test.shape)\n",
        "print('The Shape of the Testing Labels are:',y_test.shape)"
      ],
      "execution_count": 36,
      "outputs": [
        {
          "output_type": "stream",
          "text": [
            "The Shape of the Training observations are: (6506, 696)\n",
            "The Shape of the Training Labels are: (6506,)\n",
            "The Shape of the Testing observations are: (2169, 696)\n",
            "The Shape of the Testing Labels are: (2169,)\n"
          ],
          "name": "stdout"
        }
      ]
    },
    {
      "cell_type": "markdown",
      "metadata": {
        "id": "veondL8juWPJ"
      },
      "source": [
        "## Run ML algorithms\n",
        "\n",
        "\n"
      ]
    },
    {
      "cell_type": "code",
      "metadata": {
        "id": "xizOKj8ObGEA",
        "outputId": "902df1a5-b0a1-4cee-df97-7bc6b6447286",
        "colab": {
          "base_uri": "https://localhost:8080/",
          "height": 159
        }
      },
      "source": [
        "# Applying Random Forest Classifier\n",
        "\n",
        "# Create a based model\n",
        "rf = RandomForestClassifier()\n",
        "\n",
        "\n",
        "# Creating Parameter Space\n",
        "param_grid = {\n",
        "    'bootstrap': [True],\n",
        "    'max_depth': [20,40],\n",
        "    'min_samples_leaf': [2, 4],\n",
        "    'min_samples_split': [2,4],\n",
        "    'n_estimators': [100, 200]\n",
        "}\n",
        "\n",
        "# Instantiate the grid search model\n",
        "rf_cv = GridSearchCV(estimator = rf, param_grid = param_grid, \n",
        "                          cv = 5, n_jobs = -1, verbose = 2)\n",
        "# Fit the grid search to the data\n",
        "rf_cv.fit(x_train, y_train)\n",
        "print('The best estimator hyperparameters are: ',rf_cv.best_params_)\n",
        "\n",
        "best_rf_cv = rf_cv.best_estimator_\n",
        "\n",
        "#Predict the y test with the best parameters\n",
        "\n",
        "pred_RF_cv= best_rf_cv.predict(x_test)\n",
        "\n",
        "# Use accuracy_score function to get the accuracy\n",
        "print(\"The Accuracy of Random Forest is \",accuracy_score(y_test,pred_RF_cv))\n",
        "print(\"The Matthew Correlation Coffecients of  Random Forest is \",matthews_corrcoef(y_test,pred_RF_cv))"
      ],
      "execution_count": 37,
      "outputs": [
        {
          "output_type": "stream",
          "text": [
            "Fitting 5 folds for each of 16 candidates, totalling 80 fits\n"
          ],
          "name": "stdout"
        },
        {
          "output_type": "stream",
          "text": [
            "[Parallel(n_jobs=-1)]: Using backend LokyBackend with 2 concurrent workers.\n",
            "[Parallel(n_jobs=-1)]: Done  37 tasks      | elapsed:  1.4min\n",
            "[Parallel(n_jobs=-1)]: Done  80 out of  80 | elapsed:  3.2min finished\n"
          ],
          "name": "stderr"
        },
        {
          "output_type": "stream",
          "text": [
            "The best estimator hyperparameters are:  {'bootstrap': True, 'max_depth': 40, 'min_samples_leaf': 2, 'min_samples_split': 4, 'n_estimators': 200}\n",
            "The Accuracy of Random Forest is  0.611802674043338\n",
            "The Matthew Correlation Coffecients of  Random Forest is  0.5464328964340988\n"
          ],
          "name": "stdout"
        }
      ]
    },
    {
      "cell_type": "code",
      "metadata": {
        "id": "OwukhlVibLoI",
        "outputId": "c7c319e7-1fb7-407c-ce22-89e906c97c57",
        "colab": {
          "base_uri": "https://localhost:8080/",
          "height": 121
        }
      },
      "source": [
        "#Extreme Gradient Boosting \n",
        "\n",
        "#DM_train = xgb.DMatrix(data= x_train, label= y_train)\n",
        "#DM_test =  xgb.DMatrix(data= x_test, label= y_test)\n",
        "\n",
        "# Instantiate the regressor: gbm\n",
        "gbm = xgb.XGBClassifier(objective='multi:softmax')\n",
        "\n",
        "\n",
        "#Grid Search cv for XG boost\n",
        "gbm_param_grid =  {\n",
        "    'n_estimators': [50],\n",
        "    'reg_alpha': [1.1],\n",
        "    'reg_lambda': [1.1]\n",
        "}\n",
        "\n",
        "\n",
        "# Perform grid search: grid_mse\n",
        "gbm_cv = GridSearchCV(estimator= gbm, param_grid=gbm_param_grid,scoring=\"accuracy\",cv=5,verbose=1,n_jobs = -1)\n",
        "gbm_cv.fit(x_train,y_train)\n",
        "print('The best estimator hyperparameters are: ',gbm_cv.best_params_)\n",
        "best_gbm_cv=gbm_cv.best_estimator_\n",
        "\n",
        "#Predict the y test with the best parameters\n",
        "pred_gbm_cv= best_gbm_cv.predict(x_test)\n",
        "\n",
        "# Use accuracy_score function to get the accuracy\n",
        "print(\"The Accuracy of Extreme Gradient Boosting is \",accuracy_score(y_test,pred_gbm_cv))\n",
        "print(\"The Matthew Correlation Coffecients of Extreme Gradient Boosting is \",matthews_corrcoef(y_test,pred_gbm_cv))"
      ],
      "execution_count": 43,
      "outputs": [
        {
          "output_type": "stream",
          "text": [
            "Fitting 5 folds for each of 1 candidates, totalling 5 fits\n"
          ],
          "name": "stdout"
        },
        {
          "output_type": "stream",
          "text": [
            "[Parallel(n_jobs=-1)]: Using backend LokyBackend with 2 concurrent workers.\n",
            "[Parallel(n_jobs=-1)]: Done   5 out of   5 | elapsed:  3.3min finished\n"
          ],
          "name": "stderr"
        },
        {
          "output_type": "stream",
          "text": [
            "The best estimator hyperparameters are:  {'n_estimators': 50, 'reg_alpha': 1.1, 'reg_lambda': 1.1}\n",
            "The Accuracy of Extreme Gradient Boosting is  0.6740433379437529\n",
            "The Matthew Correlation Coffecients of Extreme Gradient Boosting is  0.6220220925090135\n"
          ],
          "name": "stdout"
        }
      ]
    },
    {
      "cell_type": "code",
      "metadata": {
        "id": "erkzkPIqbOMc",
        "outputId": "9407f1cf-5657-41dc-9c79-67474b95fad9",
        "colab": {
          "base_uri": "https://localhost:8080/",
          "height": 121
        }
      },
      "source": [
        "# Applying Multinomial Naive bayes\n",
        "\n",
        "#x_train= x_train.drop(subset=['affin_sentiment_score'])\n",
        "#x_test= x_test.drop(subset=['affin_sentiment_score'])\n",
        "\n",
        "\n",
        "mnb = MultinomialNB()\n",
        "\n",
        "# Creating Parameter Space\n",
        "parameters ={'alpha': [1, 0.1, 0.01, 0.001, 0.0001, 0.00001]}  \n",
        "\n",
        "#'pca_n_components': list(range(1,x_train.shape[1]+1,1))\n",
        "# Perform grid search: grid_mse\n",
        "mnb_cv = GridSearchCV(estimator= mnb, param_grid= parameters, verbose=1)\n",
        "mnb_cv.fit(x_train, y_train)\n",
        "print('The best estimator hyperparameters are: ',mnb_cv.best_params_)\n",
        "best_mnb_cv=mnb_cv.best_estimator_\n",
        "\n",
        "\n",
        "#Predict the y test with the best parameters\n",
        "pred_mnb_cv= best_mnb_cv.predict(x_test)\n",
        "\n",
        "# Use accuracy_score function to get the accuracy\n",
        "\n",
        "print(\"The Accuracy of Multinomial Naive Bayes is: \", accuracy_score(y_test,pred_mnb_cv))\n",
        "print(\"The Matthew Correlation Coffecients of Multinomial Navie Bayes is: \",matthews_corrcoef(y_test,pred_mnb_cv))"
      ],
      "execution_count": 40,
      "outputs": [
        {
          "output_type": "stream",
          "text": [
            "Fitting 5 folds for each of 6 candidates, totalling 30 fits\n"
          ],
          "name": "stdout"
        },
        {
          "output_type": "stream",
          "text": [
            "[Parallel(n_jobs=1)]: Using backend SequentialBackend with 1 concurrent workers.\n"
          ],
          "name": "stderr"
        },
        {
          "output_type": "stream",
          "text": [
            "The best estimator hyperparameters are:  {'alpha': 0.1}\n",
            "The Accuracy of Multinomial Naive Bayes is:  0.5928999538958045\n",
            "The Matthew Correlation Coffecients of Multinomial Navie Bayes is:  0.5384094940017031\n"
          ],
          "name": "stdout"
        },
        {
          "output_type": "stream",
          "text": [
            "[Parallel(n_jobs=1)]: Done  30 out of  30 | elapsed:    4.5s finished\n"
          ],
          "name": "stderr"
        }
      ]
    },
    {
      "cell_type": "code",
      "metadata": {
        "id": "2FIVA5UCbSIZ",
        "outputId": "2a6eecf5-4046-45dd-872f-5f38c4ab5011",
        "colab": {
          "base_uri": "https://localhost:8080/",
          "height": 69
        }
      },
      "source": [
        "# Instate the SVM\n",
        "SVM = SVC()\n",
        "\n",
        "\n",
        "# Creating Parameter Space\n",
        "params= {'C':[0.1,0.5, 1],}\n",
        "\n",
        "\n",
        "# Instantiate the GridSearchCV object and run the search\n",
        "SVM_cv= GridSearchCV(SVM, param_grid= params)\n",
        "                               \n",
        "SVM_cv.fit(x_train, y_train)\n",
        "\n",
        "# Report the best parameters\n",
        "print(\"Best CV params\", SVM_cv.best_params_) \n",
        "best_SVM_cv = SVM_cv.best_estimator_\n",
        "\n",
        "#Predict the y test with the best parameters\n",
        "\n",
        "pred_SVM_cv= best_SVM_cv.predict(x_test)\n",
        "\n",
        "# Use accuracy_score function to get the accuracy\n",
        "print(\"The Accuracy of SVM is \",accuracy_score(y_test,pred_SVM_cv))\n",
        "print(\"The Matthew Correlation Coffecients of SVM is \",matthews_corrcoef(y_test,pred_SVM_cv))"
      ],
      "execution_count": 41,
      "outputs": [
        {
          "output_type": "stream",
          "text": [
            "Best CV params {'C': 1}\n",
            "The Accuracy of SVM is  0.6597510373443983\n",
            "The Matthew Correlation Coffecients of SVM is  0.6047061324669712\n"
          ],
          "name": "stdout"
        }
      ]
    }
  ]
}